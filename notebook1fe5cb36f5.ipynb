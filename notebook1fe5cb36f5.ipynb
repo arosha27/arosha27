{
 "cells": [
  {
   "cell_type": "code",
   "execution_count": 1,
   "id": "3a9ff4f2",
   "metadata": {
    "_cell_guid": "b1076dfc-b9ad-4769-8c92-a6c4dae69d19",
    "_uuid": "8f2839f25d086af736a60e9eeb907d3b93b6e0e5",
    "execution": {
     "iopub.execute_input": "2024-06-29T18:13:59.128076Z",
     "iopub.status.busy": "2024-06-29T18:13:59.127599Z",
     "iopub.status.idle": "2024-06-29T18:14:00.274474Z",
     "shell.execute_reply": "2024-06-29T18:14:00.273057Z"
    },
    "papermill": {
     "duration": 1.162361,
     "end_time": "2024-06-29T18:14:00.277634",
     "exception": false,
     "start_time": "2024-06-29T18:13:59.115273",
     "status": "completed"
    },
    "tags": []
   },
   "outputs": [
    {
     "name": "stdout",
     "output_type": "stream",
     "text": [
      "/kaggle/input/diabetes-dataset-using-many-medical-metrics/diabetes (1).csv\n"
     ]
    }
   ],
   "source": [
    "# This Python 3 environment comes with many helpful analytics libraries installed\n",
    "# It is defined by the kaggle/python Docker image: https://github.com/kaggle/docker-python\n",
    "# For example, here's several helpful packages to load\n",
    "\n",
    "import numpy as np # linear algebra\n",
    "import pandas as pd # data processing, CSV file I/O (e.g. pd.read_csv)\n",
    "\n",
    "# Input data files are available in the read-only \"../input/\" directory\n",
    "# For example, running this (by clicking run or pressing Shift+Enter) will list all files under the input directory\n",
    "\n",
    "import os\n",
    "for dirname, _, filenames in os.walk('/kaggle/input'):\n",
    "    for filename in filenames:\n",
    "        print(os.path.join(dirname, filename))\n",
    "\n",
    "# You can write up to 20GB to the current directory (/kaggle/working/) that gets preserved as output when you create a version using \"Save & Run All\" \n",
    "# You can also write temporary files to /kaggle/temp/, but they won't be saved outside of the current session"
   ]
  },
  {
   "cell_type": "markdown",
   "id": "9ba970b6",
   "metadata": {
    "papermill": {
     "duration": 0.009474,
     "end_time": "2024-06-29T18:14:00.297362",
     "exception": false,
     "start_time": "2024-06-29T18:14:00.287888",
     "status": "completed"
    },
    "tags": []
   },
   "source": [
    "# Diabetes Predictions Using Machine Learning - Exploring Different Models"
   ]
  },
  {
   "cell_type": "markdown",
   "id": "66ec0459",
   "metadata": {
    "papermill": {
     "duration": 0.009558,
     "end_time": "2024-06-29T18:14:00.316843",
     "exception": false,
     "start_time": "2024-06-29T18:14:00.307285",
     "status": "completed"
    },
    "tags": []
   },
   "source": [
    "### About Dataset\n",
    "The dataset contains medical details of patients with features like glucose level, blood pressure, insulin level, BMI, age, and more. The target variable indicates whether a patient has diabetes."
   ]
  },
  {
   "cell_type": "markdown",
   "id": "89df76d4",
   "metadata": {
    "papermill": {
     "duration": 0.009417,
     "end_time": "2024-06-29T18:14:00.336169",
     "exception": false,
     "start_time": "2024-06-29T18:14:00.326752",
     "status": "completed"
    },
    "tags": []
   },
   "source": [
    "### Columns and Their Data Types\n",
    "\n",
    "* **Pregnancies:** Number of times pregnant (Integer)\n",
    "* **Glucose:** Plasma glucose concentration (Integer)\n",
    "* **BloodPressure:** Diastolic blood pressure (mm Hg) (Integer)\n",
    "* **SkinThickness:** Triceps skin fold thickness (mm) (Integer)\n",
    "* **Insulin:** 2-Hour serum insulin (mu U/ml) (Integer)\n",
    "* **BMI:** Body mass index (weight in kg/(height in m)^2) (Float)\n",
    "* **DiabetesPedigreeFunction:** Diabetes pedigree function (Float)\n",
    "* **Age:** Age (years) (Integer)"
   ]
  },
  {
   "cell_type": "markdown",
   "id": "7eb94d94",
   "metadata": {
    "papermill": {
     "duration": 0.009728,
     "end_time": "2024-06-29T18:14:00.355728",
     "exception": false,
     "start_time": "2024-06-29T18:14:00.346000",
     "status": "completed"
    },
    "tags": []
   },
   "source": [
    "##  **1.Data Loading**\n",
    "1. Import necessary libraries\n",
    "2. Load the dataset"
   ]
  },
  {
   "cell_type": "code",
   "execution_count": 2,
   "id": "041fe727",
   "metadata": {
    "execution": {
     "iopub.execute_input": "2024-06-29T18:14:00.378045Z",
     "iopub.status.busy": "2024-06-29T18:14:00.377513Z",
     "iopub.status.idle": "2024-06-29T18:14:00.435559Z",
     "shell.execute_reply": "2024-06-29T18:14:00.434326Z"
    },
    "papermill": {
     "duration": 0.072362,
     "end_time": "2024-06-29T18:14:00.438189",
     "exception": false,
     "start_time": "2024-06-29T18:14:00.365827",
     "status": "completed"
    },
    "tags": []
   },
   "outputs": [
    {
     "data": {
      "text/html": [
       "<div>\n",
       "<style scoped>\n",
       "    .dataframe tbody tr th:only-of-type {\n",
       "        vertical-align: middle;\n",
       "    }\n",
       "\n",
       "    .dataframe tbody tr th {\n",
       "        vertical-align: top;\n",
       "    }\n",
       "\n",
       "    .dataframe thead th {\n",
       "        text-align: right;\n",
       "    }\n",
       "</style>\n",
       "<table border=\"1\" class=\"dataframe\">\n",
       "  <thead>\n",
       "    <tr style=\"text-align: right;\">\n",
       "      <th></th>\n",
       "      <th>Pregnancies</th>\n",
       "      <th>Glucose</th>\n",
       "      <th>BloodPressure</th>\n",
       "      <th>SkinThickness</th>\n",
       "      <th>Insulin</th>\n",
       "      <th>BMI</th>\n",
       "      <th>DiabetesPedigreeFunction</th>\n",
       "      <th>Age</th>\n",
       "      <th>Outcome</th>\n",
       "    </tr>\n",
       "  </thead>\n",
       "  <tbody>\n",
       "    <tr>\n",
       "      <th>0</th>\n",
       "      <td>6</td>\n",
       "      <td>148</td>\n",
       "      <td>72</td>\n",
       "      <td>35</td>\n",
       "      <td>0</td>\n",
       "      <td>33.6</td>\n",
       "      <td>0.627</td>\n",
       "      <td>50</td>\n",
       "      <td>1</td>\n",
       "    </tr>\n",
       "    <tr>\n",
       "      <th>1</th>\n",
       "      <td>1</td>\n",
       "      <td>85</td>\n",
       "      <td>66</td>\n",
       "      <td>29</td>\n",
       "      <td>0</td>\n",
       "      <td>26.6</td>\n",
       "      <td>0.351</td>\n",
       "      <td>31</td>\n",
       "      <td>0</td>\n",
       "    </tr>\n",
       "    <tr>\n",
       "      <th>2</th>\n",
       "      <td>8</td>\n",
       "      <td>183</td>\n",
       "      <td>64</td>\n",
       "      <td>0</td>\n",
       "      <td>0</td>\n",
       "      <td>23.3</td>\n",
       "      <td>0.672</td>\n",
       "      <td>32</td>\n",
       "      <td>1</td>\n",
       "    </tr>\n",
       "    <tr>\n",
       "      <th>3</th>\n",
       "      <td>1</td>\n",
       "      <td>89</td>\n",
       "      <td>66</td>\n",
       "      <td>23</td>\n",
       "      <td>94</td>\n",
       "      <td>28.1</td>\n",
       "      <td>0.167</td>\n",
       "      <td>21</td>\n",
       "      <td>0</td>\n",
       "    </tr>\n",
       "    <tr>\n",
       "      <th>4</th>\n",
       "      <td>0</td>\n",
       "      <td>137</td>\n",
       "      <td>40</td>\n",
       "      <td>35</td>\n",
       "      <td>168</td>\n",
       "      <td>43.1</td>\n",
       "      <td>2.288</td>\n",
       "      <td>33</td>\n",
       "      <td>1</td>\n",
       "    </tr>\n",
       "    <tr>\n",
       "      <th>...</th>\n",
       "      <td>...</td>\n",
       "      <td>...</td>\n",
       "      <td>...</td>\n",
       "      <td>...</td>\n",
       "      <td>...</td>\n",
       "      <td>...</td>\n",
       "      <td>...</td>\n",
       "      <td>...</td>\n",
       "      <td>...</td>\n",
       "    </tr>\n",
       "    <tr>\n",
       "      <th>763</th>\n",
       "      <td>10</td>\n",
       "      <td>101</td>\n",
       "      <td>76</td>\n",
       "      <td>48</td>\n",
       "      <td>180</td>\n",
       "      <td>32.9</td>\n",
       "      <td>0.171</td>\n",
       "      <td>63</td>\n",
       "      <td>0</td>\n",
       "    </tr>\n",
       "    <tr>\n",
       "      <th>764</th>\n",
       "      <td>2</td>\n",
       "      <td>122</td>\n",
       "      <td>70</td>\n",
       "      <td>27</td>\n",
       "      <td>0</td>\n",
       "      <td>36.8</td>\n",
       "      <td>0.340</td>\n",
       "      <td>27</td>\n",
       "      <td>0</td>\n",
       "    </tr>\n",
       "    <tr>\n",
       "      <th>765</th>\n",
       "      <td>5</td>\n",
       "      <td>121</td>\n",
       "      <td>72</td>\n",
       "      <td>23</td>\n",
       "      <td>112</td>\n",
       "      <td>26.2</td>\n",
       "      <td>0.245</td>\n",
       "      <td>30</td>\n",
       "      <td>0</td>\n",
       "    </tr>\n",
       "    <tr>\n",
       "      <th>766</th>\n",
       "      <td>1</td>\n",
       "      <td>126</td>\n",
       "      <td>60</td>\n",
       "      <td>0</td>\n",
       "      <td>0</td>\n",
       "      <td>30.1</td>\n",
       "      <td>0.349</td>\n",
       "      <td>47</td>\n",
       "      <td>1</td>\n",
       "    </tr>\n",
       "    <tr>\n",
       "      <th>767</th>\n",
       "      <td>1</td>\n",
       "      <td>93</td>\n",
       "      <td>70</td>\n",
       "      <td>31</td>\n",
       "      <td>0</td>\n",
       "      <td>30.4</td>\n",
       "      <td>0.315</td>\n",
       "      <td>23</td>\n",
       "      <td>0</td>\n",
       "    </tr>\n",
       "  </tbody>\n",
       "</table>\n",
       "<p>768 rows × 9 columns</p>\n",
       "</div>"
      ],
      "text/plain": [
       "     Pregnancies  Glucose  BloodPressure  SkinThickness  Insulin   BMI  \\\n",
       "0              6      148             72             35        0  33.6   \n",
       "1              1       85             66             29        0  26.6   \n",
       "2              8      183             64              0        0  23.3   \n",
       "3              1       89             66             23       94  28.1   \n",
       "4              0      137             40             35      168  43.1   \n",
       "..           ...      ...            ...            ...      ...   ...   \n",
       "763           10      101             76             48      180  32.9   \n",
       "764            2      122             70             27        0  36.8   \n",
       "765            5      121             72             23      112  26.2   \n",
       "766            1      126             60              0        0  30.1   \n",
       "767            1       93             70             31        0  30.4   \n",
       "\n",
       "     DiabetesPedigreeFunction  Age  Outcome  \n",
       "0                       0.627   50        1  \n",
       "1                       0.351   31        0  \n",
       "2                       0.672   32        1  \n",
       "3                       0.167   21        0  \n",
       "4                       2.288   33        1  \n",
       "..                        ...  ...      ...  \n",
       "763                     0.171   63        0  \n",
       "764                     0.340   27        0  \n",
       "765                     0.245   30        0  \n",
       "766                     0.349   47        1  \n",
       "767                     0.315   23        0  \n",
       "\n",
       "[768 rows x 9 columns]"
      ]
     },
     "execution_count": 2,
     "metadata": {},
     "output_type": "execute_result"
    }
   ],
   "source": [
    "#for data manpulation,dataset reading and preprocessing\n",
    "import pandas as pd \n",
    "\n",
    "#loading the dataset using pandas' read_csv() method\n",
    "df=pd.read_csv(\"/kaggle/input/diabetes-dataset-using-many-medical-metrics/diabetes (1).csv\")\n",
    "\n",
    "#printing the dataset\n",
    "df"
   ]
  },
  {
   "cell_type": "markdown",
   "id": "d74f44b3",
   "metadata": {
    "papermill": {
     "duration": 0.010021,
     "end_time": "2024-06-29T18:14:00.458594",
     "exception": false,
     "start_time": "2024-06-29T18:14:00.448573",
     "status": "completed"
    },
    "tags": []
   },
   "source": [
    "## **2.Data Exploration**\n",
    "1. Display the first few rows of the datset\n",
    "2. Display the information about dataset\n",
    "3. Checking for the missing values\n",
    "4. Checking for the Duplicates\n",
    "5. Display the statistical summary of the dataset\n"
   ]
  },
  {
   "cell_type": "markdown",
   "id": "66753c68",
   "metadata": {
    "papermill": {
     "duration": 0.00999,
     "end_time": "2024-06-29T18:14:00.478998",
     "exception": false,
     "start_time": "2024-06-29T18:14:00.469008",
     "status": "completed"
    },
    "tags": []
   },
   "source": [
    "## head()"
   ]
  },
  {
   "cell_type": "code",
   "execution_count": 3,
   "id": "76811585",
   "metadata": {
    "execution": {
     "iopub.execute_input": "2024-06-29T18:14:00.502478Z",
     "iopub.status.busy": "2024-06-29T18:14:00.501330Z",
     "iopub.status.idle": "2024-06-29T18:14:00.518029Z",
     "shell.execute_reply": "2024-06-29T18:14:00.516706Z"
    },
    "papermill": {
     "duration": 0.030823,
     "end_time": "2024-06-29T18:14:00.520574",
     "exception": false,
     "start_time": "2024-06-29T18:14:00.489751",
     "status": "completed"
    },
    "tags": []
   },
   "outputs": [
    {
     "data": {
      "text/html": [
       "<div>\n",
       "<style scoped>\n",
       "    .dataframe tbody tr th:only-of-type {\n",
       "        vertical-align: middle;\n",
       "    }\n",
       "\n",
       "    .dataframe tbody tr th {\n",
       "        vertical-align: top;\n",
       "    }\n",
       "\n",
       "    .dataframe thead th {\n",
       "        text-align: right;\n",
       "    }\n",
       "</style>\n",
       "<table border=\"1\" class=\"dataframe\">\n",
       "  <thead>\n",
       "    <tr style=\"text-align: right;\">\n",
       "      <th></th>\n",
       "      <th>Pregnancies</th>\n",
       "      <th>Glucose</th>\n",
       "      <th>BloodPressure</th>\n",
       "      <th>SkinThickness</th>\n",
       "      <th>Insulin</th>\n",
       "      <th>BMI</th>\n",
       "      <th>DiabetesPedigreeFunction</th>\n",
       "      <th>Age</th>\n",
       "      <th>Outcome</th>\n",
       "    </tr>\n",
       "  </thead>\n",
       "  <tbody>\n",
       "    <tr>\n",
       "      <th>0</th>\n",
       "      <td>6</td>\n",
       "      <td>148</td>\n",
       "      <td>72</td>\n",
       "      <td>35</td>\n",
       "      <td>0</td>\n",
       "      <td>33.6</td>\n",
       "      <td>0.627</td>\n",
       "      <td>50</td>\n",
       "      <td>1</td>\n",
       "    </tr>\n",
       "    <tr>\n",
       "      <th>1</th>\n",
       "      <td>1</td>\n",
       "      <td>85</td>\n",
       "      <td>66</td>\n",
       "      <td>29</td>\n",
       "      <td>0</td>\n",
       "      <td>26.6</td>\n",
       "      <td>0.351</td>\n",
       "      <td>31</td>\n",
       "      <td>0</td>\n",
       "    </tr>\n",
       "    <tr>\n",
       "      <th>2</th>\n",
       "      <td>8</td>\n",
       "      <td>183</td>\n",
       "      <td>64</td>\n",
       "      <td>0</td>\n",
       "      <td>0</td>\n",
       "      <td>23.3</td>\n",
       "      <td>0.672</td>\n",
       "      <td>32</td>\n",
       "      <td>1</td>\n",
       "    </tr>\n",
       "    <tr>\n",
       "      <th>3</th>\n",
       "      <td>1</td>\n",
       "      <td>89</td>\n",
       "      <td>66</td>\n",
       "      <td>23</td>\n",
       "      <td>94</td>\n",
       "      <td>28.1</td>\n",
       "      <td>0.167</td>\n",
       "      <td>21</td>\n",
       "      <td>0</td>\n",
       "    </tr>\n",
       "    <tr>\n",
       "      <th>4</th>\n",
       "      <td>0</td>\n",
       "      <td>137</td>\n",
       "      <td>40</td>\n",
       "      <td>35</td>\n",
       "      <td>168</td>\n",
       "      <td>43.1</td>\n",
       "      <td>2.288</td>\n",
       "      <td>33</td>\n",
       "      <td>1</td>\n",
       "    </tr>\n",
       "  </tbody>\n",
       "</table>\n",
       "</div>"
      ],
      "text/plain": [
       "   Pregnancies  Glucose  BloodPressure  SkinThickness  Insulin   BMI  \\\n",
       "0            6      148             72             35        0  33.6   \n",
       "1            1       85             66             29        0  26.6   \n",
       "2            8      183             64              0        0  23.3   \n",
       "3            1       89             66             23       94  28.1   \n",
       "4            0      137             40             35      168  43.1   \n",
       "\n",
       "   DiabetesPedigreeFunction  Age  Outcome  \n",
       "0                     0.627   50        1  \n",
       "1                     0.351   31        0  \n",
       "2                     0.672   32        1  \n",
       "3                     0.167   21        0  \n",
       "4                     2.288   33        1  "
      ]
     },
     "execution_count": 3,
     "metadata": {},
     "output_type": "execute_result"
    }
   ],
   "source": [
    "#head() gives the preview of the dataset \n",
    "#by default prints the first five rows,can print custom rows by passing a parameter in the parenthesis\n",
    "df.head()"
   ]
  },
  {
   "cell_type": "markdown",
   "id": "ee879b76",
   "metadata": {
    "papermill": {
     "duration": 0.01092,
     "end_time": "2024-06-29T18:14:00.542392",
     "exception": false,
     "start_time": "2024-06-29T18:14:00.531472",
     "status": "completed"
    },
    "tags": []
   },
   "source": [
    "## info()"
   ]
  },
  {
   "cell_type": "code",
   "execution_count": 4,
   "id": "c000049e",
   "metadata": {
    "execution": {
     "iopub.execute_input": "2024-06-29T18:14:00.567219Z",
     "iopub.status.busy": "2024-06-29T18:14:00.566822Z",
     "iopub.status.idle": "2024-06-29T18:14:00.591174Z",
     "shell.execute_reply": "2024-06-29T18:14:00.589889Z"
    },
    "papermill": {
     "duration": 0.040213,
     "end_time": "2024-06-29T18:14:00.593991",
     "exception": false,
     "start_time": "2024-06-29T18:14:00.553778",
     "status": "completed"
    },
    "tags": []
   },
   "outputs": [
    {
     "name": "stdout",
     "output_type": "stream",
     "text": [
      "<class 'pandas.core.frame.DataFrame'>\n",
      "RangeIndex: 768 entries, 0 to 767\n",
      "Data columns (total 9 columns):\n",
      " #   Column                    Non-Null Count  Dtype  \n",
      "---  ------                    --------------  -----  \n",
      " 0   Pregnancies               768 non-null    int64  \n",
      " 1   Glucose                   768 non-null    int64  \n",
      " 2   BloodPressure             768 non-null    int64  \n",
      " 3   SkinThickness             768 non-null    int64  \n",
      " 4   Insulin                   768 non-null    int64  \n",
      " 5   BMI                       768 non-null    float64\n",
      " 6   DiabetesPedigreeFunction  768 non-null    float64\n",
      " 7   Age                       768 non-null    int64  \n",
      " 8   Outcome                   768 non-null    int64  \n",
      "dtypes: float64(2), int64(7)\n",
      "memory usage: 54.1 KB\n"
     ]
    }
   ],
   "source": [
    "#display the information like total entries,Columns and their Datatypes etc\n",
    "df.info()"
   ]
  },
  {
   "cell_type": "markdown",
   "id": "bf1ee8f8",
   "metadata": {
    "papermill": {
     "duration": 0.010455,
     "end_time": "2024-06-29T18:14:00.615418",
     "exception": false,
     "start_time": "2024-06-29T18:14:00.604963",
     "status": "completed"
    },
    "tags": []
   },
   "source": [
    "## isnull()"
   ]
  },
  {
   "cell_type": "code",
   "execution_count": 5,
   "id": "fe4f705c",
   "metadata": {
    "execution": {
     "iopub.execute_input": "2024-06-29T18:14:00.642995Z",
     "iopub.status.busy": "2024-06-29T18:14:00.642588Z",
     "iopub.status.idle": "2024-06-29T18:14:00.653474Z",
     "shell.execute_reply": "2024-06-29T18:14:00.652114Z"
    },
    "papermill": {
     "duration": 0.028106,
     "end_time": "2024-06-29T18:14:00.656671",
     "exception": false,
     "start_time": "2024-06-29T18:14:00.628565",
     "status": "completed"
    },
    "tags": []
   },
   "outputs": [
    {
     "data": {
      "text/plain": [
       "Pregnancies                 0\n",
       "Glucose                     0\n",
       "BloodPressure               0\n",
       "SkinThickness               0\n",
       "Insulin                     0\n",
       "BMI                         0\n",
       "DiabetesPedigreeFunction    0\n",
       "Age                         0\n",
       "Outcome                     0\n",
       "dtype: int64"
      ]
     },
     "execution_count": 5,
     "metadata": {},
     "output_type": "execute_result"
    }
   ],
   "source": [
    "#display series with columns as index and total no of null values as their values\n",
    "df.isnull().sum()"
   ]
  },
  {
   "cell_type": "markdown",
   "id": "d837759e",
   "metadata": {
    "papermill": {
     "duration": 0.010443,
     "end_time": "2024-06-29T18:14:00.678228",
     "exception": false,
     "start_time": "2024-06-29T18:14:00.667785",
     "status": "completed"
    },
    "tags": []
   },
   "source": [
    "## describe()"
   ]
  },
  {
   "cell_type": "code",
   "execution_count": 6,
   "id": "9355233a",
   "metadata": {
    "execution": {
     "iopub.execute_input": "2024-06-29T18:14:00.702971Z",
     "iopub.status.busy": "2024-06-29T18:14:00.702566Z",
     "iopub.status.idle": "2024-06-29T18:14:00.742132Z",
     "shell.execute_reply": "2024-06-29T18:14:00.740912Z"
    },
    "papermill": {
     "duration": 0.055661,
     "end_time": "2024-06-29T18:14:00.744886",
     "exception": false,
     "start_time": "2024-06-29T18:14:00.689225",
     "status": "completed"
    },
    "tags": []
   },
   "outputs": [
    {
     "data": {
      "text/html": [
       "<div>\n",
       "<style scoped>\n",
       "    .dataframe tbody tr th:only-of-type {\n",
       "        vertical-align: middle;\n",
       "    }\n",
       "\n",
       "    .dataframe tbody tr th {\n",
       "        vertical-align: top;\n",
       "    }\n",
       "\n",
       "    .dataframe thead th {\n",
       "        text-align: right;\n",
       "    }\n",
       "</style>\n",
       "<table border=\"1\" class=\"dataframe\">\n",
       "  <thead>\n",
       "    <tr style=\"text-align: right;\">\n",
       "      <th></th>\n",
       "      <th>Pregnancies</th>\n",
       "      <th>Glucose</th>\n",
       "      <th>BloodPressure</th>\n",
       "      <th>SkinThickness</th>\n",
       "      <th>Insulin</th>\n",
       "      <th>BMI</th>\n",
       "      <th>DiabetesPedigreeFunction</th>\n",
       "      <th>Age</th>\n",
       "      <th>Outcome</th>\n",
       "    </tr>\n",
       "  </thead>\n",
       "  <tbody>\n",
       "    <tr>\n",
       "      <th>count</th>\n",
       "      <td>768.000000</td>\n",
       "      <td>768.000000</td>\n",
       "      <td>768.000000</td>\n",
       "      <td>768.000000</td>\n",
       "      <td>768.000000</td>\n",
       "      <td>768.000000</td>\n",
       "      <td>768.000000</td>\n",
       "      <td>768.000000</td>\n",
       "      <td>768.000000</td>\n",
       "    </tr>\n",
       "    <tr>\n",
       "      <th>mean</th>\n",
       "      <td>3.845052</td>\n",
       "      <td>120.894531</td>\n",
       "      <td>69.105469</td>\n",
       "      <td>20.536458</td>\n",
       "      <td>79.799479</td>\n",
       "      <td>31.992578</td>\n",
       "      <td>0.471876</td>\n",
       "      <td>33.240885</td>\n",
       "      <td>0.348958</td>\n",
       "    </tr>\n",
       "    <tr>\n",
       "      <th>std</th>\n",
       "      <td>3.369578</td>\n",
       "      <td>31.972618</td>\n",
       "      <td>19.355807</td>\n",
       "      <td>15.952218</td>\n",
       "      <td>115.244002</td>\n",
       "      <td>7.884160</td>\n",
       "      <td>0.331329</td>\n",
       "      <td>11.760232</td>\n",
       "      <td>0.476951</td>\n",
       "    </tr>\n",
       "    <tr>\n",
       "      <th>min</th>\n",
       "      <td>0.000000</td>\n",
       "      <td>0.000000</td>\n",
       "      <td>0.000000</td>\n",
       "      <td>0.000000</td>\n",
       "      <td>0.000000</td>\n",
       "      <td>0.000000</td>\n",
       "      <td>0.078000</td>\n",
       "      <td>21.000000</td>\n",
       "      <td>0.000000</td>\n",
       "    </tr>\n",
       "    <tr>\n",
       "      <th>25%</th>\n",
       "      <td>1.000000</td>\n",
       "      <td>99.000000</td>\n",
       "      <td>62.000000</td>\n",
       "      <td>0.000000</td>\n",
       "      <td>0.000000</td>\n",
       "      <td>27.300000</td>\n",
       "      <td>0.243750</td>\n",
       "      <td>24.000000</td>\n",
       "      <td>0.000000</td>\n",
       "    </tr>\n",
       "    <tr>\n",
       "      <th>50%</th>\n",
       "      <td>3.000000</td>\n",
       "      <td>117.000000</td>\n",
       "      <td>72.000000</td>\n",
       "      <td>23.000000</td>\n",
       "      <td>30.500000</td>\n",
       "      <td>32.000000</td>\n",
       "      <td>0.372500</td>\n",
       "      <td>29.000000</td>\n",
       "      <td>0.000000</td>\n",
       "    </tr>\n",
       "    <tr>\n",
       "      <th>75%</th>\n",
       "      <td>6.000000</td>\n",
       "      <td>140.250000</td>\n",
       "      <td>80.000000</td>\n",
       "      <td>32.000000</td>\n",
       "      <td>127.250000</td>\n",
       "      <td>36.600000</td>\n",
       "      <td>0.626250</td>\n",
       "      <td>41.000000</td>\n",
       "      <td>1.000000</td>\n",
       "    </tr>\n",
       "    <tr>\n",
       "      <th>max</th>\n",
       "      <td>17.000000</td>\n",
       "      <td>199.000000</td>\n",
       "      <td>122.000000</td>\n",
       "      <td>99.000000</td>\n",
       "      <td>846.000000</td>\n",
       "      <td>67.100000</td>\n",
       "      <td>2.420000</td>\n",
       "      <td>81.000000</td>\n",
       "      <td>1.000000</td>\n",
       "    </tr>\n",
       "  </tbody>\n",
       "</table>\n",
       "</div>"
      ],
      "text/plain": [
       "       Pregnancies     Glucose  BloodPressure  SkinThickness     Insulin  \\\n",
       "count   768.000000  768.000000     768.000000     768.000000  768.000000   \n",
       "mean      3.845052  120.894531      69.105469      20.536458   79.799479   \n",
       "std       3.369578   31.972618      19.355807      15.952218  115.244002   \n",
       "min       0.000000    0.000000       0.000000       0.000000    0.000000   \n",
       "25%       1.000000   99.000000      62.000000       0.000000    0.000000   \n",
       "50%       3.000000  117.000000      72.000000      23.000000   30.500000   \n",
       "75%       6.000000  140.250000      80.000000      32.000000  127.250000   \n",
       "max      17.000000  199.000000     122.000000      99.000000  846.000000   \n",
       "\n",
       "              BMI  DiabetesPedigreeFunction         Age     Outcome  \n",
       "count  768.000000                768.000000  768.000000  768.000000  \n",
       "mean    31.992578                  0.471876   33.240885    0.348958  \n",
       "std      7.884160                  0.331329   11.760232    0.476951  \n",
       "min      0.000000                  0.078000   21.000000    0.000000  \n",
       "25%     27.300000                  0.243750   24.000000    0.000000  \n",
       "50%     32.000000                  0.372500   29.000000    0.000000  \n",
       "75%     36.600000                  0.626250   41.000000    1.000000  \n",
       "max     67.100000                  2.420000   81.000000    1.000000  "
      ]
     },
     "execution_count": 6,
     "metadata": {},
     "output_type": "execute_result"
    }
   ],
   "source": [
    "#display the statistical summary of the dataset\n",
    "df.describe()"
   ]
  },
  {
   "cell_type": "markdown",
   "id": "93e832a3",
   "metadata": {
    "papermill": {
     "duration": 0.011758,
     "end_time": "2024-06-29T18:14:00.768309",
     "exception": false,
     "start_time": "2024-06-29T18:14:00.756551",
     "status": "completed"
    },
    "tags": []
   },
   "source": [
    "## duplicated()"
   ]
  },
  {
   "cell_type": "code",
   "execution_count": 7,
   "id": "efe85ed3",
   "metadata": {
    "execution": {
     "iopub.execute_input": "2024-06-29T18:14:00.793234Z",
     "iopub.status.busy": "2024-06-29T18:14:00.792825Z",
     "iopub.status.idle": "2024-06-29T18:14:00.803854Z",
     "shell.execute_reply": "2024-06-29T18:14:00.802524Z"
    },
    "papermill": {
     "duration": 0.02671,
     "end_time": "2024-06-29T18:14:00.806563",
     "exception": false,
     "start_time": "2024-06-29T18:14:00.779853",
     "status": "completed"
    },
    "tags": []
   },
   "outputs": [
    {
     "data": {
      "text/plain": [
       "0"
      ]
     },
     "execution_count": 7,
     "metadata": {},
     "output_type": "execute_result"
    }
   ],
   "source": [
    "#display total number of duplicates in the dataset\n",
    "df.duplicated().sum()"
   ]
  },
  {
   "cell_type": "markdown",
   "id": "81d8a528",
   "metadata": {
    "papermill": {
     "duration": 0.011009,
     "end_time": "2024-06-29T18:14:00.829458",
     "exception": false,
     "start_time": "2024-06-29T18:14:00.818449",
     "status": "completed"
    },
    "tags": []
   },
   "source": [
    " ## **3.Data Preprocessing**\n",
    "1. Handling missing values\n",
    "3. Feature Scaling\n",
    "4. Split the data into features and target variables"
   ]
  },
  {
   "cell_type": "markdown",
   "id": "45760e4b",
   "metadata": {
    "papermill": {
     "duration": 0.011184,
     "end_time": "2024-06-29T18:14:00.851971",
     "exception": false,
     "start_time": "2024-06-29T18:14:00.840787",
     "status": "completed"
    },
    "tags": []
   },
   "source": [
    "## fillna()\n",
    "In case missing values are present in the dataset,there are several ways to handle it:\n",
    "1. **Removing missing Values:** if the dataset is large and the missing vaues are reletively small,then simply remove the rows and columns with missing values\n",
    "* *Syntax: df.dropna(axis=0) or df.dropna(axis=1)*\n",
    "\n",
    "2. **Imputation:** involves replacing missing values with substitute values.Common methods include replacing with mean,median,mode.mode and Meadian are used mostly when dealing with catagorical columns\n",
    "* *Synatx: df['Col_Name'].fillna(df['Col_Name'].mean(), inplace=True)*\n",
    "* *Synatx: df['Col_Name'].fillna(df['Col_Name'].median(), inplace=True)*\n",
    "* *Synatx: df['Col_Name'].fillna(df['Col_Name'].mode(), inplace=True)*\n",
    "\n",
    "3. **Constant Value Imputation:** Fill the missing value with a constant(zero or some specific value\n",
    "* *Syntax: df.fillna(100,inpalce=True)*\n",
    "\n",
    "4. **ForwardFill and BackwardFill:** Use forward fill to propagate the last observed value forward or backward fill to propagate the next observed value backward.\n",
    "* *Syntax: df.fillna(method=bfill,inplace=True)*\n",
    "* *Syntax: df.fillna(method=ffill,inplace=True)*"
   ]
  },
  {
   "cell_type": "markdown",
   "id": "fe6429fb",
   "metadata": {
    "papermill": {
     "duration": 0.011347,
     "end_time": "2024-06-29T18:14:00.874609",
     "exception": false,
     "start_time": "2024-06-29T18:14:00.863262",
     "status": "completed"
    },
    "tags": []
   },
   "source": [
    "***Note: As in our case , no missing values are present thus skipping this step***"
   ]
  },
  {
   "cell_type": "markdown",
   "id": "f1e8fa5d",
   "metadata": {
    "papermill": {
     "duration": 0.010996,
     "end_time": "2024-06-29T18:14:00.897066",
     "exception": false,
     "start_time": "2024-06-29T18:14:00.886070",
     "status": "completed"
    },
    "tags": []
   },
   "source": [
    "### Feature Scaling\n",
    "Feature scaling is a method to standardize the range of independent features or variables in the data.It is crucial in data preprocessing so that the model is being trained by the equal contribution of each feature without priortizing a specific one.\n"
   ]
  },
  {
   "cell_type": "code",
   "execution_count": 8,
   "id": "25be2eb3",
   "metadata": {
    "execution": {
     "iopub.execute_input": "2024-06-29T18:14:00.923085Z",
     "iopub.status.busy": "2024-06-29T18:14:00.922647Z",
     "iopub.status.idle": "2024-06-29T18:14:02.364620Z",
     "shell.execute_reply": "2024-06-29T18:14:02.363461Z"
    },
    "papermill": {
     "duration": 1.45781,
     "end_time": "2024-06-29T18:14:02.367372",
     "exception": false,
     "start_time": "2024-06-29T18:14:00.909562",
     "status": "completed"
    },
    "tags": []
   },
   "outputs": [
    {
     "data": {
      "text/plain": [
       "array([[ 0.63994726,  0.84832379,  0.14964075, ...,  0.46849198,\n",
       "         1.4259954 ,  1.36589591],\n",
       "       [-0.84488505, -1.12339636, -0.16054575, ..., -0.36506078,\n",
       "        -0.19067191, -0.73212021],\n",
       "       [ 1.23388019,  1.94372388, -0.26394125, ...,  0.60439732,\n",
       "        -0.10558415,  1.36589591],\n",
       "       ...,\n",
       "       [ 0.3429808 ,  0.00330087,  0.14964075, ..., -0.68519336,\n",
       "        -0.27575966, -0.73212021],\n",
       "       [-0.84488505,  0.1597866 , -0.47073225, ..., -0.37110101,\n",
       "         1.17073215,  1.36589591],\n",
       "       [-0.84488505, -0.8730192 ,  0.04624525, ..., -0.47378505,\n",
       "        -0.87137393, -0.73212021]])"
      ]
     },
     "execution_count": 8,
     "metadata": {},
     "output_type": "execute_result"
    }
   ],
   "source": [
    "#import the StandardScaler class from sklearns' preprocessing module\n",
    "from sklearn.preprocessing import StandardScaler\n",
    "\n",
    "#Create an instance of the StandardScalar class\n",
    "scaler=StandardScaler()\n",
    "\n",
    "#Fit the scaler on data and then transform it \n",
    "#\"Fit\" method computes the mean and standard deviation of the data for sacling\n",
    "#\"Transform\" method sacles the data based on computed mean and standard deviation\n",
    "scaled_df=scaler.fit_transform(df)\n",
    "\n",
    "#printing the scaled df\n",
    "scaled_df"
   ]
  },
  {
   "cell_type": "markdown",
   "id": "74e4782e",
   "metadata": {
    "papermill": {
     "duration": 0.011482,
     "end_time": "2024-06-29T18:14:02.390619",
     "exception": false,
     "start_time": "2024-06-29T18:14:02.379137",
     "status": "completed"
    },
    "tags": []
   },
   "source": [
    "### Spliting the dataset"
   ]
  },
  {
   "cell_type": "code",
   "execution_count": 9,
   "id": "2b67fbaa",
   "metadata": {
    "execution": {
     "iopub.execute_input": "2024-06-29T18:14:02.415889Z",
     "iopub.status.busy": "2024-06-29T18:14:02.415442Z",
     "iopub.status.idle": "2024-06-29T18:14:02.559975Z",
     "shell.execute_reply": "2024-06-29T18:14:02.558472Z"
    },
    "papermill": {
     "duration": 0.160241,
     "end_time": "2024-06-29T18:14:02.562809",
     "exception": false,
     "start_time": "2024-06-29T18:14:02.402568",
     "status": "completed"
    },
    "tags": []
   },
   "outputs": [],
   "source": [
    "#import the Train_test_split fumction from sklearns' model_selection module\n",
    "from sklearn.model_selection import train_test_split\n",
    "\n",
    "#Define Features and target\n",
    "X=df.drop(columns=[\"Outcome\"])\n",
    "Y=df[\"Outcome\"]\n",
    "\n",
    "#Split the df into 4 parts: X_train,X_test,Y_train,Y_test\n",
    "#X_train,X_test for Training Purpose\n",
    "#Y_train and Y_test for testing purpose\n",
    "#test_size =0.2 means 20% data for testing and remaining 80% for training\n",
    "#random_state=42 means we get the same split everytime we run the code\n",
    "X_train,X_test,Y_train,Y_test=train_test_split(X,Y,test_size=0.2,random_state=42)"
   ]
  },
  {
   "cell_type": "markdown",
   "id": "c2e54da4",
   "metadata": {
    "papermill": {
     "duration": 0.011387,
     "end_time": "2024-06-29T18:14:02.585656",
     "exception": false,
     "start_time": "2024-06-29T18:14:02.574269",
     "status": "completed"
    },
    "tags": []
   },
   "source": [
    "# **4.Model Building**\n",
    "1. Choose different Machine Learning Models\n",
    "2. Train the Models\n",
    "3. Evaluate the Models"
   ]
  },
  {
   "cell_type": "markdown",
   "id": "1d962b11",
   "metadata": {
    "papermill": {
     "duration": 0.012698,
     "end_time": "2024-06-29T18:14:02.609871",
     "exception": false,
     "start_time": "2024-06-29T18:14:02.597173",
     "status": "completed"
    },
    "tags": []
   },
   "source": [
    "## **5.Model selection**"
   ]
  },
  {
   "cell_type": "code",
   "execution_count": 10,
   "id": "994ac546",
   "metadata": {
    "execution": {
     "iopub.execute_input": "2024-06-29T18:14:02.635917Z",
     "iopub.status.busy": "2024-06-29T18:14:02.635475Z",
     "iopub.status.idle": "2024-06-29T18:14:03.058122Z",
     "shell.execute_reply": "2024-06-29T18:14:03.056616Z"
    },
    "papermill": {
     "duration": 0.438979,
     "end_time": "2024-06-29T18:14:03.061274",
     "exception": false,
     "start_time": "2024-06-29T18:14:02.622295",
     "status": "completed"
    },
    "tags": []
   },
   "outputs": [],
   "source": [
    "#import models' classes from different sklearns' modules\n",
    "from sklearn.linear_model import LogisticRegression\n",
    "from sklearn.tree import DecisionTreeClassifier\n",
    "from sklearn.ensemble import RandomForestClassifier\n",
    "from sklearn.svm import SVC\n",
    "\n",
    "#instantiate the models\n",
    "lr=LogisticRegression()\n",
    "Dc=DecisionTreeClassifier()\n",
    "Rf=RandomForestClassifier()\n",
    "Svm=SVC()"
   ]
  },
  {
   "cell_type": "markdown",
   "id": "99870377",
   "metadata": {
    "papermill": {
     "duration": 0.011418,
     "end_time": "2024-06-29T18:14:03.084327",
     "exception": false,
     "start_time": "2024-06-29T18:14:03.072909",
     "status": "completed"
    },
    "tags": []
   },
   "source": [
    "## **6.Model Training**"
   ]
  },
  {
   "cell_type": "code",
   "execution_count": 11,
   "id": "bccf910d",
   "metadata": {
    "execution": {
     "iopub.execute_input": "2024-06-29T18:14:03.111209Z",
     "iopub.status.busy": "2024-06-29T18:14:03.110780Z",
     "iopub.status.idle": "2024-06-29T18:14:03.483978Z",
     "shell.execute_reply": "2024-06-29T18:14:03.482746Z"
    },
    "papermill": {
     "duration": 0.390303,
     "end_time": "2024-06-29T18:14:03.486650",
     "exception": false,
     "start_time": "2024-06-29T18:14:03.096347",
     "status": "completed"
    },
    "tags": []
   },
   "outputs": [
    {
     "data": {
      "text/html": [
       "<style>#sk-container-id-1 {color: black;background-color: white;}#sk-container-id-1 pre{padding: 0;}#sk-container-id-1 div.sk-toggleable {background-color: white;}#sk-container-id-1 label.sk-toggleable__label {cursor: pointer;display: block;width: 100%;margin-bottom: 0;padding: 0.3em;box-sizing: border-box;text-align: center;}#sk-container-id-1 label.sk-toggleable__label-arrow:before {content: \"▸\";float: left;margin-right: 0.25em;color: #696969;}#sk-container-id-1 label.sk-toggleable__label-arrow:hover:before {color: black;}#sk-container-id-1 div.sk-estimator:hover label.sk-toggleable__label-arrow:before {color: black;}#sk-container-id-1 div.sk-toggleable__content {max-height: 0;max-width: 0;overflow: hidden;text-align: left;background-color: #f0f8ff;}#sk-container-id-1 div.sk-toggleable__content pre {margin: 0.2em;color: black;border-radius: 0.25em;background-color: #f0f8ff;}#sk-container-id-1 input.sk-toggleable__control:checked~div.sk-toggleable__content {max-height: 200px;max-width: 100%;overflow: auto;}#sk-container-id-1 input.sk-toggleable__control:checked~label.sk-toggleable__label-arrow:before {content: \"▾\";}#sk-container-id-1 div.sk-estimator input.sk-toggleable__control:checked~label.sk-toggleable__label {background-color: #d4ebff;}#sk-container-id-1 div.sk-label input.sk-toggleable__control:checked~label.sk-toggleable__label {background-color: #d4ebff;}#sk-container-id-1 input.sk-hidden--visually {border: 0;clip: rect(1px 1px 1px 1px);clip: rect(1px, 1px, 1px, 1px);height: 1px;margin: -1px;overflow: hidden;padding: 0;position: absolute;width: 1px;}#sk-container-id-1 div.sk-estimator {font-family: monospace;background-color: #f0f8ff;border: 1px dotted black;border-radius: 0.25em;box-sizing: border-box;margin-bottom: 0.5em;}#sk-container-id-1 div.sk-estimator:hover {background-color: #d4ebff;}#sk-container-id-1 div.sk-parallel-item::after {content: \"\";width: 100%;border-bottom: 1px solid gray;flex-grow: 1;}#sk-container-id-1 div.sk-label:hover label.sk-toggleable__label {background-color: #d4ebff;}#sk-container-id-1 div.sk-serial::before {content: \"\";position: absolute;border-left: 1px solid gray;box-sizing: border-box;top: 0;bottom: 0;left: 50%;z-index: 0;}#sk-container-id-1 div.sk-serial {display: flex;flex-direction: column;align-items: center;background-color: white;padding-right: 0.2em;padding-left: 0.2em;position: relative;}#sk-container-id-1 div.sk-item {position: relative;z-index: 1;}#sk-container-id-1 div.sk-parallel {display: flex;align-items: stretch;justify-content: center;background-color: white;position: relative;}#sk-container-id-1 div.sk-item::before, #sk-container-id-1 div.sk-parallel-item::before {content: \"\";position: absolute;border-left: 1px solid gray;box-sizing: border-box;top: 0;bottom: 0;left: 50%;z-index: -1;}#sk-container-id-1 div.sk-parallel-item {display: flex;flex-direction: column;z-index: 1;position: relative;background-color: white;}#sk-container-id-1 div.sk-parallel-item:first-child::after {align-self: flex-end;width: 50%;}#sk-container-id-1 div.sk-parallel-item:last-child::after {align-self: flex-start;width: 50%;}#sk-container-id-1 div.sk-parallel-item:only-child::after {width: 0;}#sk-container-id-1 div.sk-dashed-wrapped {border: 1px dashed gray;margin: 0 0.4em 0.5em 0.4em;box-sizing: border-box;padding-bottom: 0.4em;background-color: white;}#sk-container-id-1 div.sk-label label {font-family: monospace;font-weight: bold;display: inline-block;line-height: 1.2em;}#sk-container-id-1 div.sk-label-container {text-align: center;}#sk-container-id-1 div.sk-container {/* jupyter's `normalize.less` sets `[hidden] { display: none; }` but bootstrap.min.css set `[hidden] { display: none !important; }` so we also need the `!important` here to be able to override the default hidden behavior on the sphinx rendered scikit-learn.org. See: https://github.com/scikit-learn/scikit-learn/issues/21755 */display: inline-block !important;position: relative;}#sk-container-id-1 div.sk-text-repr-fallback {display: none;}</style><div id=\"sk-container-id-1\" class=\"sk-top-container\"><div class=\"sk-text-repr-fallback\"><pre>SVC()</pre><b>In a Jupyter environment, please rerun this cell to show the HTML representation or trust the notebook. <br />On GitHub, the HTML representation is unable to render, please try loading this page with nbviewer.org.</b></div><div class=\"sk-container\" hidden><div class=\"sk-item\"><div class=\"sk-estimator sk-toggleable\"><input class=\"sk-toggleable__control sk-hidden--visually\" id=\"sk-estimator-id-1\" type=\"checkbox\" checked><label for=\"sk-estimator-id-1\" class=\"sk-toggleable__label sk-toggleable__label-arrow\">SVC</label><div class=\"sk-toggleable__content\"><pre>SVC()</pre></div></div></div></div></div>"
      ],
      "text/plain": [
       "SVC()"
      ]
     },
     "execution_count": 11,
     "metadata": {},
     "output_type": "execute_result"
    }
   ],
   "source": [
    "import warnings\n",
    "warnings.filterwarnings(\"ignore\")\n",
    "\n",
    "#Train Logistic Regression\n",
    "lr.fit(X_train,Y_train)\n",
    "\n",
    "#Train Dession Tree\n",
    "Dc.fit(X_train,Y_train)\n",
    "\n",
    "#Train Random Forest\n",
    "Rf.fit(X_train,Y_train)\n",
    "\n",
    "#Train Support Vector Machine\n",
    "Svm.fit(X_train,Y_train)"
   ]
  },
  {
   "cell_type": "markdown",
   "id": "c63aed2b",
   "metadata": {
    "papermill": {
     "duration": 0.011497,
     "end_time": "2024-06-29T18:14:03.510135",
     "exception": false,
     "start_time": "2024-06-29T18:14:03.498638",
     "status": "completed"
    },
    "tags": []
   },
   "source": [
    "## **7.Model Evaluation**\n",
    "1. Make Predictions\n",
    "2. Evaluate Models using accuracy,precision,F1 and recal.\n",
    "3. Compare the performance of different models"
   ]
  },
  {
   "cell_type": "markdown",
   "id": "3242ad97",
   "metadata": {
    "papermill": {
     "duration": 0.012343,
     "end_time": "2024-06-29T18:14:03.534675",
     "exception": false,
     "start_time": "2024-06-29T18:14:03.522332",
     "status": "completed"
    },
    "tags": []
   },
   "source": [
    "### Model Predictions"
   ]
  },
  {
   "cell_type": "code",
   "execution_count": 12,
   "id": "eee1705b",
   "metadata": {
    "execution": {
     "iopub.execute_input": "2024-06-29T18:14:03.561495Z",
     "iopub.status.busy": "2024-06-29T18:14:03.560368Z",
     "iopub.status.idle": "2024-06-29T18:14:03.589410Z",
     "shell.execute_reply": "2024-06-29T18:14:03.588047Z"
    },
    "papermill": {
     "duration": 0.045869,
     "end_time": "2024-06-29T18:14:03.592496",
     "exception": false,
     "start_time": "2024-06-29T18:14:03.546627",
     "status": "completed"
    },
    "tags": []
   },
   "outputs": [],
   "source": [
    "#Making Predictions by different trained models\n",
    "lr_y_pred=lr.predict(X_test)\n",
    "Dc_y_pred=Dc.predict(X_test)\n",
    "Rf_y_pred=Rf.predict(X_test)\n",
    "Svm_y_pred=Svm.predict(X_test)\n"
   ]
  },
  {
   "cell_type": "markdown",
   "id": "d0d0df9a",
   "metadata": {
    "papermill": {
     "duration": 0.013236,
     "end_time": "2024-06-29T18:14:03.617754",
     "exception": false,
     "start_time": "2024-06-29T18:14:03.604518",
     "status": "completed"
    },
    "tags": []
   },
   "source": [
    "### Evaluation Metrics"
   ]
  },
  {
   "cell_type": "code",
   "execution_count": 13,
   "id": "95f02f7f",
   "metadata": {
    "execution": {
     "iopub.execute_input": "2024-06-29T18:14:03.644661Z",
     "iopub.status.busy": "2024-06-29T18:14:03.644154Z",
     "iopub.status.idle": "2024-06-29T18:14:03.688958Z",
     "shell.execute_reply": "2024-06-29T18:14:03.687238Z"
    },
    "papermill": {
     "duration": 0.061861,
     "end_time": "2024-06-29T18:14:03.691672",
     "exception": false,
     "start_time": "2024-06-29T18:14:03.629811",
     "status": "completed"
    },
    "tags": []
   },
   "outputs": [
    {
     "name": "stdout",
     "output_type": "stream",
     "text": [
      "Logistic Regression Evalution Metrics: (0.7467532467532467, 0.6379310344827587, 0.6727272727272727, 0.6548672566371682)\n",
      "Decision Tree Evaluation Metrics: (0.7272727272727273, 0.6065573770491803, 0.6727272727272727, 0.6379310344827586)\n",
      "Random Forest Evaluation Metrics: (0.7597402597402597, 0.6607142857142857, 0.6727272727272727, 0.6666666666666666)\n",
      "SVM Evaluation Metrics: (0.7662337662337663, 0.7209302325581395, 0.5636363636363636, 0.6326530612244898)\n"
     ]
    }
   ],
   "source": [
    "#import different metrics from sklearn's metrics module\n",
    "from sklearn.metrics import accuracy_score,recall_score,precision_score,f1_score\n",
    "\n",
    "#Evalution Function\n",
    "#Defining the Function\n",
    "def evaluation_model(Y_test,Y_pred):\n",
    "    accuracy=accuracy_score(Y_test,Y_pred)\n",
    "    precision=precision_score(Y_test,Y_pred)\n",
    "    recall=recall_score(Y_test,Y_pred)\n",
    "    f1=f1_score(Y_test,Y_pred)\n",
    "    return accuracy,precision, recall,f1\n",
    "\n",
    "#Calling the Function with different models' predictions\n",
    "lr_eval=evaluation_model(Y_test,lr_y_pred)\n",
    "Dc_eval=evaluation_model(Y_test,Dc_y_pred)\n",
    "Rf_eval=evaluation_model(Y_test,Rf_y_pred)\n",
    "Svm_eval=evaluation_model(Y_test,Svm_y_pred)\n",
    "\n",
    "#Printing the Output of different models\n",
    "print(f\"Logistic Regression Evalution Metrics: {lr_eval}\")\n",
    "print(f\"Decision Tree Evaluation Metrics: {Dc_eval}\")\n",
    "print(f\"Random Forest Evaluation Metrics: {Rf_eval}\")\n",
    "print(f\"SVM Evaluation Metrics: {Svm_eval}\")"
   ]
  },
  {
   "cell_type": "markdown",
   "id": "2c3a19c5",
   "metadata": {
    "papermill": {
     "duration": 0.01336,
     "end_time": "2024-06-29T18:14:03.717092",
     "exception": false,
     "start_time": "2024-06-29T18:14:03.703732",
     "status": "completed"
    },
    "tags": []
   },
   "source": [
    "# Conclusion \n",
    "\n",
    "**Decision Tree** appears to be the best-performing model overall on this dataset, as it achieves the highest F1-score, which balances precision and recall effectively. It also has a high accuracy and recall, indicating robust performance across different evaluation metrics.\n",
    "\n",
    "**SVM** also shows competitive performance with high accuracy and precision, although it has slightly lower recall compared to Decision Tree.\n",
    "\n",
    "**Logistic Regression** and **Random Forest** perform reasonably well but are slightly outperformed by Decision Tree and SVM in terms of F1-score and other metrics.\n",
    "\n",
    "Therefore, **Decision Tree is recommended as the best-performing model based on the provided evaluation metrics**."
   ]
  }
 ],
 "metadata": {
  "kaggle": {
   "accelerator": "none",
   "dataSources": [
    {
     "datasetId": 5289801,
     "sourceId": 8797194,
     "sourceType": "datasetVersion"
    }
   ],
   "dockerImageVersionId": 30732,
   "isGpuEnabled": false,
   "isInternetEnabled": false,
   "language": "python",
   "sourceType": "notebook"
  },
  "kernelspec": {
   "display_name": "Python 3",
   "language": "python",
   "name": "python3"
  },
  "language_info": {
   "codemirror_mode": {
    "name": "ipython",
    "version": 3
   },
   "file_extension": ".py",
   "mimetype": "text/x-python",
   "name": "python",
   "nbconvert_exporter": "python",
   "pygments_lexer": "ipython3",
   "version": "3.10.13"
  },
  "papermill": {
   "default_parameters": {},
   "duration": 8.664118,
   "end_time": "2024-06-29T18:14:04.451803",
   "environment_variables": {},
   "exception": null,
   "input_path": "__notebook__.ipynb",
   "output_path": "__notebook__.ipynb",
   "parameters": {},
   "start_time": "2024-06-29T18:13:55.787685",
   "version": "2.5.0"
  }
 },
 "nbformat": 4,
 "nbformat_minor": 5
}
